{
 "cells": [
  {
   "cell_type": "markdown",
   "metadata": {},
   "source": [
    "# Machine Learning Model Building Pipeline: Feature Engineering\n",
    "\n",
    "\n",
    "## Predicting Rent Price of Houses\n",
    "\n",
    "**Problem Statement:** To build an application which predicts the monthly rental of a house  based on different explanatory variables describing aspects of residential houses. \n",
    "\n",
    "**Data Source:** The dataset is received from the iNeuron ML Challenge 2 competition.\n",
    "\n",
    "<hr>\n",
    "\n",
    "**This is the notebook for step 2: Feature Engineering**\n",
    "\n",
    "***NOTE***: As the dataset was of huge size, I choose not to push my dataset to Github, as I was facing some issues with Git LFS. Instead I uploaded it to Google Drive, here's the shared [link](https://drive.google.com/drive/folders/16n1lch7y9iVNdetydfwW7pa2s2Z-AINT?usp=sharing). One may download the dataset and save it in the dataset/ folder in this repo"
   ]
  },
  {
   "cell_type": "markdown",
   "metadata": {},
   "source": [
    "## House Prices dataset: Feature Engineering\n",
    "\n",
    "In the following cells, we will engineer / pre-process the variables of the House Rent Dataset from iNeuron. We will engineer the variables so that we tackle:\n",
    "\n",
    "- [Data Cleaning](#Data-Cleaning)\n",
    "    - Removing Outliers\n",
    "    - Extracting new features\n",
    "- [Missing values](#Missing-values)\n",
    "- [Log transformation](#Numerical-variable-transformation)\n",
    "- [Encoding Categorical Variables](#Categorical-Variables)\n",
    "\n",
    "\n",
    "Let's go ahead and load the dataset."
   ]
  },
  {
   "cell_type": "code",
   "execution_count": 1,
   "metadata": {},
   "outputs": [],
   "source": [
    "# to handle datasets\n",
    "import pandas as pd\n",
    "import numpy as np\n",
    "\n",
    "# for plotting\n",
    "import matplotlib.pyplot as plt\n",
    "import seaborn as sns\n",
    "\n",
    "# to divide train and test set\n",
    "from sklearn.model_selection import train_test_split\n",
    "\n",
    "# feature scaling\n",
    "from sklearn.preprocessing import MinMaxScaler\n",
    "\n",
    "# to visualise al the columns in the dataframe\n",
    "pd.pandas.set_option('display.max_columns', None)\n",
    "\n",
    "import warnings\n",
    "warnings.simplefilter(action='ignore')"
   ]
  },
  {
   "cell_type": "code",
   "execution_count": 2,
   "metadata": {},
   "outputs": [
    {
     "data": {
      "text/plain": [
       "(265190, 22)"
      ]
     },
     "execution_count": 2,
     "metadata": {},
     "output_type": "execute_result"
    }
   ],
   "source": [
    "data = pd.read_csv('dataset/housing_train.csv')\n",
    "data.shape"
   ]
  },
  {
   "cell_type": "code",
   "execution_count": 3,
   "metadata": {},
   "outputs": [
    {
     "name": "stdout",
     "output_type": "stream",
     "text": [
      "<class 'pandas.core.frame.DataFrame'>\n",
      "RangeIndex: 265190 entries, 0 to 265189\n",
      "Data columns (total 22 columns):\n",
      "id                         265190 non-null int64\n",
      "url                        265190 non-null object\n",
      "region                     265190 non-null object\n",
      "region_url                 265190 non-null object\n",
      "price                      265190 non-null int64\n",
      "type                       265190 non-null object\n",
      "sqfeet                     265190 non-null int64\n",
      "beds                       265190 non-null int64\n",
      "baths                      265190 non-null float64\n",
      "cats_allowed               265190 non-null int64\n",
      "dogs_allowed               265190 non-null int64\n",
      "smoking_allowed            265190 non-null int64\n",
      "wheelchair_access          265190 non-null int64\n",
      "electric_vehicle_charge    265190 non-null int64\n",
      "comes_furnished            265190 non-null int64\n",
      "laundry_options            210879 non-null object\n",
      "parking_options            170055 non-null object\n",
      "image_url                  265190 non-null object\n",
      "description                265188 non-null object\n",
      "lat                        263771 non-null float64\n",
      "long                       263771 non-null float64\n",
      "state                      265189 non-null object\n",
      "dtypes: float64(3), int64(10), object(9)\n",
      "memory usage: 44.5+ MB\n"
     ]
    }
   ],
   "source": [
    "data.info()"
   ]
  },
  {
   "cell_type": "code",
   "execution_count": 4,
   "metadata": {},
   "outputs": [
    {
     "data": {
      "text/html": [
       "<div>\n",
       "<style scoped>\n",
       "    .dataframe tbody tr th:only-of-type {\n",
       "        vertical-align: middle;\n",
       "    }\n",
       "\n",
       "    .dataframe tbody tr th {\n",
       "        vertical-align: top;\n",
       "    }\n",
       "\n",
       "    .dataframe thead th {\n",
       "        text-align: right;\n",
       "    }\n",
       "</style>\n",
       "<table border=\"1\" class=\"dataframe\">\n",
       "  <thead>\n",
       "    <tr style=\"text-align: right;\">\n",
       "      <th></th>\n",
       "      <th>id</th>\n",
       "      <th>price</th>\n",
       "      <th>sqfeet</th>\n",
       "      <th>beds</th>\n",
       "      <th>baths</th>\n",
       "      <th>cats_allowed</th>\n",
       "      <th>dogs_allowed</th>\n",
       "      <th>smoking_allowed</th>\n",
       "      <th>wheelchair_access</th>\n",
       "      <th>electric_vehicle_charge</th>\n",
       "      <th>comes_furnished</th>\n",
       "      <th>lat</th>\n",
       "      <th>long</th>\n",
       "    </tr>\n",
       "  </thead>\n",
       "  <tbody>\n",
       "    <tr>\n",
       "      <th>count</th>\n",
       "      <td>2.651900e+05</td>\n",
       "      <td>2.651900e+05</td>\n",
       "      <td>2.651900e+05</td>\n",
       "      <td>265190.000000</td>\n",
       "      <td>265190.000000</td>\n",
       "      <td>265190.000000</td>\n",
       "      <td>265190.000000</td>\n",
       "      <td>265190.000000</td>\n",
       "      <td>265190.000000</td>\n",
       "      <td>265190.000000</td>\n",
       "      <td>265190.000000</td>\n",
       "      <td>263771.000000</td>\n",
       "      <td>263771.000000</td>\n",
       "    </tr>\n",
       "    <tr>\n",
       "      <th>mean</th>\n",
       "      <td>7.040888e+09</td>\n",
       "      <td>1.227285e+04</td>\n",
       "      <td>1.093678e+03</td>\n",
       "      <td>1.912414</td>\n",
       "      <td>1.483468</td>\n",
       "      <td>0.716822</td>\n",
       "      <td>0.696550</td>\n",
       "      <td>0.733896</td>\n",
       "      <td>0.078759</td>\n",
       "      <td>0.014360</td>\n",
       "      <td>0.048644</td>\n",
       "      <td>37.208855</td>\n",
       "      <td>-92.398149</td>\n",
       "    </tr>\n",
       "    <tr>\n",
       "      <th>std</th>\n",
       "      <td>8.778930e+06</td>\n",
       "      <td>5.376352e+06</td>\n",
       "      <td>2.306888e+04</td>\n",
       "      <td>3.691900</td>\n",
       "      <td>0.630208</td>\n",
       "      <td>0.450543</td>\n",
       "      <td>0.459749</td>\n",
       "      <td>0.441920</td>\n",
       "      <td>0.269362</td>\n",
       "      <td>0.118968</td>\n",
       "      <td>0.215124</td>\n",
       "      <td>5.659648</td>\n",
       "      <td>17.370780</td>\n",
       "    </tr>\n",
       "    <tr>\n",
       "      <th>min</th>\n",
       "      <td>7.003808e+09</td>\n",
       "      <td>0.000000e+00</td>\n",
       "      <td>0.000000e+00</td>\n",
       "      <td>0.000000</td>\n",
       "      <td>0.000000</td>\n",
       "      <td>0.000000</td>\n",
       "      <td>0.000000</td>\n",
       "      <td>0.000000</td>\n",
       "      <td>0.000000</td>\n",
       "      <td>0.000000</td>\n",
       "      <td>0.000000</td>\n",
       "      <td>-43.533300</td>\n",
       "      <td>-163.894000</td>\n",
       "    </tr>\n",
       "    <tr>\n",
       "      <th>25%</th>\n",
       "      <td>7.035963e+09</td>\n",
       "      <td>8.170000e+02</td>\n",
       "      <td>7.520000e+02</td>\n",
       "      <td>1.000000</td>\n",
       "      <td>1.000000</td>\n",
       "      <td>0.000000</td>\n",
       "      <td>0.000000</td>\n",
       "      <td>0.000000</td>\n",
       "      <td>0.000000</td>\n",
       "      <td>0.000000</td>\n",
       "      <td>0.000000</td>\n",
       "      <td>33.508500</td>\n",
       "      <td>-104.704000</td>\n",
       "    </tr>\n",
       "    <tr>\n",
       "      <th>50%</th>\n",
       "      <td>7.043109e+09</td>\n",
       "      <td>1.060000e+03</td>\n",
       "      <td>9.500000e+02</td>\n",
       "      <td>2.000000</td>\n",
       "      <td>1.000000</td>\n",
       "      <td>1.000000</td>\n",
       "      <td>1.000000</td>\n",
       "      <td>1.000000</td>\n",
       "      <td>0.000000</td>\n",
       "      <td>0.000000</td>\n",
       "      <td>0.000000</td>\n",
       "      <td>37.984900</td>\n",
       "      <td>-86.478300</td>\n",
       "    </tr>\n",
       "    <tr>\n",
       "      <th>75%</th>\n",
       "      <td>7.048362e+09</td>\n",
       "      <td>1.450000e+03</td>\n",
       "      <td>1.156000e+03</td>\n",
       "      <td>2.000000</td>\n",
       "      <td>2.000000</td>\n",
       "      <td>1.000000</td>\n",
       "      <td>1.000000</td>\n",
       "      <td>1.000000</td>\n",
       "      <td>0.000000</td>\n",
       "      <td>0.000000</td>\n",
       "      <td>0.000000</td>\n",
       "      <td>41.168400</td>\n",
       "      <td>-81.284600</td>\n",
       "    </tr>\n",
       "    <tr>\n",
       "      <th>max</th>\n",
       "      <td>7.051263e+09</td>\n",
       "      <td>2.768307e+09</td>\n",
       "      <td>8.388607e+06</td>\n",
       "      <td>1100.000000</td>\n",
       "      <td>75.000000</td>\n",
       "      <td>1.000000</td>\n",
       "      <td>1.000000</td>\n",
       "      <td>1.000000</td>\n",
       "      <td>1.000000</td>\n",
       "      <td>1.000000</td>\n",
       "      <td>1.000000</td>\n",
       "      <td>102.036000</td>\n",
       "      <td>172.633000</td>\n",
       "    </tr>\n",
       "  </tbody>\n",
       "</table>\n",
       "</div>"
      ],
      "text/plain": [
       "                 id         price        sqfeet           beds          baths  \\\n",
       "count  2.651900e+05  2.651900e+05  2.651900e+05  265190.000000  265190.000000   \n",
       "mean   7.040888e+09  1.227285e+04  1.093678e+03       1.912414       1.483468   \n",
       "std    8.778930e+06  5.376352e+06  2.306888e+04       3.691900       0.630208   \n",
       "min    7.003808e+09  0.000000e+00  0.000000e+00       0.000000       0.000000   \n",
       "25%    7.035963e+09  8.170000e+02  7.520000e+02       1.000000       1.000000   \n",
       "50%    7.043109e+09  1.060000e+03  9.500000e+02       2.000000       1.000000   \n",
       "75%    7.048362e+09  1.450000e+03  1.156000e+03       2.000000       2.000000   \n",
       "max    7.051263e+09  2.768307e+09  8.388607e+06    1100.000000      75.000000   \n",
       "\n",
       "        cats_allowed   dogs_allowed  smoking_allowed  wheelchair_access  \\\n",
       "count  265190.000000  265190.000000    265190.000000      265190.000000   \n",
       "mean        0.716822       0.696550         0.733896           0.078759   \n",
       "std         0.450543       0.459749         0.441920           0.269362   \n",
       "min         0.000000       0.000000         0.000000           0.000000   \n",
       "25%         0.000000       0.000000         0.000000           0.000000   \n",
       "50%         1.000000       1.000000         1.000000           0.000000   \n",
       "75%         1.000000       1.000000         1.000000           0.000000   \n",
       "max         1.000000       1.000000         1.000000           1.000000   \n",
       "\n",
       "       electric_vehicle_charge  comes_furnished            lat           long  \n",
       "count            265190.000000    265190.000000  263771.000000  263771.000000  \n",
       "mean                  0.014360         0.048644      37.208855     -92.398149  \n",
       "std                   0.118968         0.215124       5.659648      17.370780  \n",
       "min                   0.000000         0.000000     -43.533300    -163.894000  \n",
       "25%                   0.000000         0.000000      33.508500    -104.704000  \n",
       "50%                   0.000000         0.000000      37.984900     -86.478300  \n",
       "75%                   0.000000         0.000000      41.168400     -81.284600  \n",
       "max                   1.000000         1.000000     102.036000     172.633000  "
      ]
     },
     "execution_count": 4,
     "metadata": {},
     "output_type": "execute_result"
    }
   ],
   "source": [
    "data.describe()"
   ]
  },
  {
   "cell_type": "markdown",
   "metadata": {},
   "source": [
    "## Data Cleaning"
   ]
  },
  {
   "cell_type": "markdown",
   "metadata": {},
   "source": [
    "### **Removing outliers**"
   ]
  },
  {
   "cell_type": "markdown",
   "metadata": {},
   "source": [
    "In EDA, we decided to remove outliers according to the upper and lower bound of its interquartile range."
   ]
  },
  {
   "cell_type": "code",
   "execution_count": 5,
   "metadata": {},
   "outputs": [],
   "source": [
    "def out_iqr(df , column):\n",
    "    q25, q75 = np.quantile(df[column], 0.25), np.quantile(df[column], 0.75)\n",
    "    iqr = q75 - q25\n",
    "    cut_off = iqr * 1.5\n",
    "    return q75 + cut_off, 1"
   ]
  },
  {
   "cell_type": "code",
   "execution_count": 6,
   "metadata": {},
   "outputs": [],
   "source": [
    "out_vars = ['price','sqfeet','beds','baths']\n",
    "\n",
    "for var in out_vars:\n",
    "    upper, lower = out_iqr(data, var)\n",
    "    data = data[(data[var] <= upper) & (data[var] >= lower)]"
   ]
  },
  {
   "cell_type": "code",
   "execution_count": 7,
   "metadata": {
    "scrolled": false
   },
   "outputs": [
    {
     "data": {
      "text/plain": [
       "(228857, 22)"
      ]
     },
     "execution_count": 7,
     "metadata": {},
     "output_type": "execute_result"
    }
   ],
   "source": [
    "data.shape"
   ]
  },
  {
   "cell_type": "code",
   "execution_count": 8,
   "metadata": {},
   "outputs": [
    {
     "data": {
      "text/plain": [
       "Index(['id', 'url', 'region', 'region_url', 'price', 'type', 'sqfeet', 'beds',\n",
       "       'baths', 'cats_allowed', 'dogs_allowed', 'smoking_allowed',\n",
       "       'wheelchair_access', 'electric_vehicle_charge', 'comes_furnished',\n",
       "       'laundry_options', 'parking_options', 'image_url', 'description', 'lat',\n",
       "       'long', 'state'],\n",
       "      dtype='object')"
      ]
     },
     "execution_count": 8,
     "metadata": {},
     "output_type": "execute_result"
    }
   ],
   "source": [
    "data.columns"
   ]
  },
  {
   "cell_type": "markdown",
   "metadata": {},
   "source": [
    "## Missing values\n",
    "\n",
    "### Categorical variables"
   ]
  },
  {
   "cell_type": "code",
   "execution_count": 9,
   "metadata": {
    "scrolled": true
   },
   "outputs": [],
   "source": [
    "# make a list of the categorical variables that contain missing values\n",
    "cat_var_na = ['laundry_options', 'parking_options', 'state']"
   ]
  },
  {
   "cell_type": "code",
   "execution_count": 10,
   "metadata": {},
   "outputs": [],
   "source": [
    "def impute_missing_cat(data, var, modeof):\n",
    "    return data.groupby(modeof)[var].transform(\n",
    "        lambda x: x.fillna(x.mode()[0]))"
   ]
  },
  {
   "cell_type": "code",
   "execution_count": 11,
   "metadata": {},
   "outputs": [],
   "source": [
    "data[\"laundry_options\"] = impute_missing_cat(data, \"laundry_options\", \"type\")\n",
    "data[\"parking_options\"] = impute_missing_cat(data, \"parking_options\", \"type\")\n",
    "data[\"state\"] = impute_missing_cat(data, \"state\", \"region\")"
   ]
  },
  {
   "cell_type": "markdown",
   "metadata": {},
   "source": [
    "### Numerical variables\n"
   ]
  },
  {
   "cell_type": "code",
   "execution_count": 12,
   "metadata": {},
   "outputs": [],
   "source": [
    "# make a list with the numerical variables that contain missing values\n",
    "num_var_na = ['lat', 'long']"
   ]
  },
  {
   "cell_type": "code",
   "execution_count": 13,
   "metadata": {},
   "outputs": [],
   "source": [
    "data.drop(labels=num_var_na, axis=1, inplace=True)"
   ]
  },
  {
   "cell_type": "markdown",
   "metadata": {
    "_cell_guid": "9193270b-8e7b-4a24-b769-d6eb661a1ae7",
    "_execution_state": "idle",
    "_uuid": "465570fcce8944ee31b1709ec6954d03cbf32ff8"
   },
   "source": [
    "Is there any remaining missing value ? "
   ]
  },
  {
   "cell_type": "code",
   "execution_count": 14,
   "metadata": {
    "_cell_guid": "0adf05cf-ce60-4169-805c-ca776e60e85a",
    "_execution_state": "idle",
    "_uuid": "b091fa2ebef19425019e2e550410d0376b9e9fac"
   },
   "outputs": [
    {
     "data": {
      "text/html": [
       "<div>\n",
       "<style scoped>\n",
       "    .dataframe tbody tr th:only-of-type {\n",
       "        vertical-align: middle;\n",
       "    }\n",
       "\n",
       "    .dataframe tbody tr th {\n",
       "        vertical-align: top;\n",
       "    }\n",
       "\n",
       "    .dataframe thead th {\n",
       "        text-align: right;\n",
       "    }\n",
       "</style>\n",
       "<table border=\"1\" class=\"dataframe\">\n",
       "  <thead>\n",
       "    <tr style=\"text-align: right;\">\n",
       "      <th></th>\n",
       "      <th>Missing Ratio</th>\n",
       "    </tr>\n",
       "  </thead>\n",
       "  <tbody>\n",
       "    <tr>\n",
       "      <th>description</th>\n",
       "      <td>0.000874</td>\n",
       "    </tr>\n",
       "  </tbody>\n",
       "</table>\n",
       "</div>"
      ],
      "text/plain": [
       "             Missing Ratio\n",
       "description       0.000874"
      ]
     },
     "execution_count": 14,
     "metadata": {},
     "output_type": "execute_result"
    }
   ],
   "source": [
    "#Check remaining missing values if any \n",
    "all_data_na = (data.isnull().sum() / len(data)) * 100\n",
    "all_data_na = all_data_na.drop(all_data_na[all_data_na == 0].index).sort_values(ascending=False)\n",
    "missing_data = pd.DataFrame({'Missing Ratio' :all_data_na})\n",
    "missing_data.head()"
   ]
  },
  {
   "cell_type": "code",
   "execution_count": 15,
   "metadata": {},
   "outputs": [],
   "source": [
    "data.drop(labels='description', axis=1, inplace=True)"
   ]
  },
  {
   "cell_type": "code",
   "execution_count": 16,
   "metadata": {},
   "outputs": [
    {
     "data": {
      "text/html": [
       "<div>\n",
       "<style scoped>\n",
       "    .dataframe tbody tr th:only-of-type {\n",
       "        vertical-align: middle;\n",
       "    }\n",
       "\n",
       "    .dataframe tbody tr th {\n",
       "        vertical-align: top;\n",
       "    }\n",
       "\n",
       "    .dataframe thead th {\n",
       "        text-align: right;\n",
       "    }\n",
       "</style>\n",
       "<table border=\"1\" class=\"dataframe\">\n",
       "  <thead>\n",
       "    <tr style=\"text-align: right;\">\n",
       "      <th></th>\n",
       "      <th>Missing Ratio</th>\n",
       "    </tr>\n",
       "  </thead>\n",
       "  <tbody>\n",
       "  </tbody>\n",
       "</table>\n",
       "</div>"
      ],
      "text/plain": [
       "Empty DataFrame\n",
       "Columns: [Missing Ratio]\n",
       "Index: []"
      ]
     },
     "execution_count": 16,
     "metadata": {},
     "output_type": "execute_result"
    }
   ],
   "source": [
    "#Check remaining missing values if any \n",
    "all_data_na = (data.isnull().sum() / len(data)) * 100\n",
    "all_data_na = all_data_na.drop(all_data_na[all_data_na == 0].index).sort_values(ascending=False)\n",
    "missing_data = pd.DataFrame({'Missing Ratio' :all_data_na})\n",
    "missing_data.head()"
   ]
  },
  {
   "cell_type": "code",
   "execution_count": 17,
   "metadata": {},
   "outputs": [
    {
     "data": {
      "text/plain": [
       "(228857, 19)"
      ]
     },
     "execution_count": 17,
     "metadata": {},
     "output_type": "execute_result"
    }
   ],
   "source": [
    "data.shape"
   ]
  },
  {
   "cell_type": "markdown",
   "metadata": {},
   "source": [
    "## Numerical variable transformation\n",
    "\n",
    "We will log transform the positive numerical variables in order to get a more Gaussian-like distribution. This tends to help Linear machine learning models. "
   ]
  },
  {
   "cell_type": "code",
   "execution_count": 18,
   "metadata": {},
   "outputs": [],
   "source": [
    "for var in ['price','sqfeet']:\n",
    "    data[var] = np.log1p(data[var])"
   ]
  },
  {
   "cell_type": "code",
   "execution_count": 19,
   "metadata": {},
   "outputs": [
    {
     "data": {
      "text/plain": [
       "[]"
      ]
     },
     "execution_count": 19,
     "metadata": {},
     "output_type": "execute_result"
    }
   ],
   "source": [
    "# check that data set does not contain null values in the engineered variables\n",
    "[var for var in ['price','sqfeet'] if data[var].isnull().sum() > 0]"
   ]
  },
  {
   "cell_type": "markdown",
   "metadata": {},
   "source": [
    "## Categorical Variables\n",
    "\n",
    "### Removing rare labels\n",
    "\n",
    "First, we will group those categories within variables that are present in less than 1% of the observations. That is, all values of categorical variables that are shared by less than 1% of houses, well be replaced by the string \"Rare\"."
   ]
  },
  {
   "cell_type": "code",
   "execution_count": 20,
   "metadata": {},
   "outputs": [],
   "source": [
    "# let's capture the categorical variables in a list\n",
    "\n",
    "cat_vars = ['region', 'type', 'laundry_options', 'parking_options', 'state']"
   ]
  },
  {
   "cell_type": "code",
   "execution_count": 21,
   "metadata": {},
   "outputs": [],
   "source": [
    "frequent_ls = {\n",
    "    'region': \n",
    "        ['denver', 'fayetteville', 'jacksonville', 'omaha / council bluffs', 'rochester'],\n",
    "     'type': \n",
    "        ['apartment', 'condo', 'duplex', 'house', 'manufactured', 'townhouse'],\n",
    "     'laundry_options': \n",
    "        ['laundry in bldg', 'laundry on site', 'w/d hookups', 'w/d in unit'],  \n",
    "     'parking_options': \n",
    "        ['attached garage', 'carport', 'detached garage', 'off-street parking', 'street parking'],\n",
    "     'state': \n",
    "        ['al', 'ar', 'az', 'ca', 'co', 'ct', 'fl', 'ga', 'ia', 'id', 'il', 'in', 'ks', 'ky', 'la', \n",
    "        'ma', 'md', 'mi', 'mn', 'ms', 'nc', 'nd', 'ne', 'nj', 'nm', 'nv', 'ny', 'oh']\n",
    "}\n",
    "\n",
    "\n",
    "for var in cat_vars:\n",
    "    data[var] = np.where(data[var].isin(\n",
    "        frequent_ls[var]), data[var], 'Rare')"
   ]
  },
  {
   "cell_type": "markdown",
   "metadata": {},
   "source": [
    "### Encoding of categorical variables\n",
    "\n",
    "Next, we need to transform the strings of the categorical variables into numbers. We will do it so that we capture the monotonic relationship between the label and the target."
   ]
  },
  {
   "cell_type": "code",
   "execution_count": 22,
   "metadata": {},
   "outputs": [],
   "source": [
    "# this function will assign discrete values to the strings of the variables,\n",
    "# so that the smaller value corresponds to the category that shows the smaller\n",
    "# mean house sale price\n",
    "\n",
    "\n",
    "def replace_categories(data, var, target):\n",
    "\n",
    "    # order the categories in a variable from that with the lowest\n",
    "    # house sale price, to that with the highest\n",
    "    ordered_labels = data.groupby([var])[target].mean().sort_values().index\n",
    "\n",
    "    # create a dictionary of ordered categories to integer values\n",
    "    ordinal_label = {k: i for i, k in enumerate(ordered_labels, 0)}\n",
    "\n",
    "    # use the dictionary to replace the categorical strings by integers\n",
    "    data[var] = data[var].map(ordinal_label)"
   ]
  },
  {
   "cell_type": "code",
   "execution_count": 23,
   "metadata": {
    "scrolled": true
   },
   "outputs": [],
   "source": [
    "for var in cat_vars:\n",
    "    replace_categories(data, var, 'price')"
   ]
  },
  {
   "cell_type": "code",
   "execution_count": 24,
   "metadata": {},
   "outputs": [
    {
     "data": {
      "text/plain": [
       "[]"
      ]
     },
     "execution_count": 24,
     "metadata": {},
     "output_type": "execute_result"
    }
   ],
   "source": [
    "# check absence of na in the train set\n",
    "[var for var in data.columns if data[var].isnull().sum() > 0]"
   ]
  },
  {
   "cell_type": "code",
   "execution_count": 25,
   "metadata": {},
   "outputs": [
    {
     "data": {
      "text/html": [
       "<div>\n",
       "<style scoped>\n",
       "    .dataframe tbody tr th:only-of-type {\n",
       "        vertical-align: middle;\n",
       "    }\n",
       "\n",
       "    .dataframe tbody tr th {\n",
       "        vertical-align: top;\n",
       "    }\n",
       "\n",
       "    .dataframe thead th {\n",
       "        text-align: right;\n",
       "    }\n",
       "</style>\n",
       "<table border=\"1\" class=\"dataframe\">\n",
       "  <thead>\n",
       "    <tr style=\"text-align: right;\">\n",
       "      <th></th>\n",
       "      <th>id</th>\n",
       "      <th>url</th>\n",
       "      <th>region</th>\n",
       "      <th>region_url</th>\n",
       "      <th>price</th>\n",
       "      <th>type</th>\n",
       "      <th>sqfeet</th>\n",
       "      <th>beds</th>\n",
       "      <th>baths</th>\n",
       "      <th>cats_allowed</th>\n",
       "      <th>dogs_allowed</th>\n",
       "      <th>smoking_allowed</th>\n",
       "      <th>wheelchair_access</th>\n",
       "      <th>electric_vehicle_charge</th>\n",
       "      <th>comes_furnished</th>\n",
       "      <th>laundry_options</th>\n",
       "      <th>parking_options</th>\n",
       "      <th>image_url</th>\n",
       "      <th>state</th>\n",
       "    </tr>\n",
       "  </thead>\n",
       "  <tbody>\n",
       "    <tr>\n",
       "      <th>1</th>\n",
       "      <td>7041970863</td>\n",
       "      <td>https://bham.craigslist.org/apa/d/birmingham-w...</td>\n",
       "      <td>4</td>\n",
       "      <td>https://bham.craigslist.org</td>\n",
       "      <td>7.021976</td>\n",
       "      <td>3</td>\n",
       "      <td>7.185387</td>\n",
       "      <td>3</td>\n",
       "      <td>2.0</td>\n",
       "      <td>1</td>\n",
       "      <td>1</td>\n",
       "      <td>1</td>\n",
       "      <td>0</td>\n",
       "      <td>0</td>\n",
       "      <td>0</td>\n",
       "      <td>1</td>\n",
       "      <td>0</td>\n",
       "      <td>https://images.craigslist.org/00707_uRrY9CsNMC...</td>\n",
       "      <td>7</td>\n",
       "    </tr>\n",
       "    <tr>\n",
       "      <th>2</th>\n",
       "      <td>7041966914</td>\n",
       "      <td>https://bham.craigslist.org/apa/d/birmingham-g...</td>\n",
       "      <td>4</td>\n",
       "      <td>https://bham.craigslist.org</td>\n",
       "      <td>6.716595</td>\n",
       "      <td>3</td>\n",
       "      <td>7.033506</td>\n",
       "      <td>1</td>\n",
       "      <td>1.5</td>\n",
       "      <td>1</td>\n",
       "      <td>1</td>\n",
       "      <td>1</td>\n",
       "      <td>0</td>\n",
       "      <td>0</td>\n",
       "      <td>0</td>\n",
       "      <td>1</td>\n",
       "      <td>1</td>\n",
       "      <td>https://images.craigslist.org/00h0h_b7Bdj1NLBi...</td>\n",
       "      <td>7</td>\n",
       "    </tr>\n",
       "    <tr>\n",
       "      <th>3</th>\n",
       "      <td>7041966936</td>\n",
       "      <td>https://bham.craigslist.org/apa/d/birmingham-f...</td>\n",
       "      <td>4</td>\n",
       "      <td>https://bham.craigslist.org</td>\n",
       "      <td>6.685861</td>\n",
       "      <td>3</td>\n",
       "      <td>6.833032</td>\n",
       "      <td>1</td>\n",
       "      <td>1.0</td>\n",
       "      <td>1</td>\n",
       "      <td>1</td>\n",
       "      <td>1</td>\n",
       "      <td>0</td>\n",
       "      <td>0</td>\n",
       "      <td>0</td>\n",
       "      <td>1</td>\n",
       "      <td>1</td>\n",
       "      <td>https://images.craigslist.org/00808_6ghZ8tSRQs...</td>\n",
       "      <td>7</td>\n",
       "    </tr>\n",
       "    <tr>\n",
       "      <th>4</th>\n",
       "      <td>7041966888</td>\n",
       "      <td>https://bham.craigslist.org/apa/d/birmingham-2...</td>\n",
       "      <td>4</td>\n",
       "      <td>https://bham.craigslist.org</td>\n",
       "      <td>6.666957</td>\n",
       "      <td>3</td>\n",
       "      <td>6.954639</td>\n",
       "      <td>2</td>\n",
       "      <td>1.0</td>\n",
       "      <td>1</td>\n",
       "      <td>1</td>\n",
       "      <td>1</td>\n",
       "      <td>0</td>\n",
       "      <td>0</td>\n",
       "      <td>0</td>\n",
       "      <td>1</td>\n",
       "      <td>1</td>\n",
       "      <td>https://images.craigslist.org/00y0y_21c0FOvUXm...</td>\n",
       "      <td>7</td>\n",
       "    </tr>\n",
       "    <tr>\n",
       "      <th>5</th>\n",
       "      <td>7041966868</td>\n",
       "      <td>https://bham.craigslist.org/apa/d/birmingham-s...</td>\n",
       "      <td>4</td>\n",
       "      <td>https://bham.craigslist.org</td>\n",
       "      <td>6.803505</td>\n",
       "      <td>3</td>\n",
       "      <td>7.169350</td>\n",
       "      <td>2</td>\n",
       "      <td>2.0</td>\n",
       "      <td>1</td>\n",
       "      <td>1</td>\n",
       "      <td>1</td>\n",
       "      <td>0</td>\n",
       "      <td>0</td>\n",
       "      <td>0</td>\n",
       "      <td>1</td>\n",
       "      <td>1</td>\n",
       "      <td>https://images.craigslist.org/00606_g79izH5xxk...</td>\n",
       "      <td>7</td>\n",
       "    </tr>\n",
       "  </tbody>\n",
       "</table>\n",
       "</div>"
      ],
      "text/plain": [
       "           id                                                url  region  \\\n",
       "1  7041970863  https://bham.craigslist.org/apa/d/birmingham-w...       4   \n",
       "2  7041966914  https://bham.craigslist.org/apa/d/birmingham-g...       4   \n",
       "3  7041966936  https://bham.craigslist.org/apa/d/birmingham-f...       4   \n",
       "4  7041966888  https://bham.craigslist.org/apa/d/birmingham-2...       4   \n",
       "5  7041966868  https://bham.craigslist.org/apa/d/birmingham-s...       4   \n",
       "\n",
       "                    region_url     price  type    sqfeet  beds  baths  \\\n",
       "1  https://bham.craigslist.org  7.021976     3  7.185387     3    2.0   \n",
       "2  https://bham.craigslist.org  6.716595     3  7.033506     1    1.5   \n",
       "3  https://bham.craigslist.org  6.685861     3  6.833032     1    1.0   \n",
       "4  https://bham.craigslist.org  6.666957     3  6.954639     2    1.0   \n",
       "5  https://bham.craigslist.org  6.803505     3  7.169350     2    2.0   \n",
       "\n",
       "   cats_allowed  dogs_allowed  smoking_allowed  wheelchair_access  \\\n",
       "1             1             1                1                  0   \n",
       "2             1             1                1                  0   \n",
       "3             1             1                1                  0   \n",
       "4             1             1                1                  0   \n",
       "5             1             1                1                  0   \n",
       "\n",
       "   electric_vehicle_charge  comes_furnished  laundry_options  parking_options  \\\n",
       "1                        0                0                1                0   \n",
       "2                        0                0                1                1   \n",
       "3                        0                0                1                1   \n",
       "4                        0                0                1                1   \n",
       "5                        0                0                1                1   \n",
       "\n",
       "                                           image_url  state  \n",
       "1  https://images.craigslist.org/00707_uRrY9CsNMC...      7  \n",
       "2  https://images.craigslist.org/00h0h_b7Bdj1NLBi...      7  \n",
       "3  https://images.craigslist.org/00808_6ghZ8tSRQs...      7  \n",
       "4  https://images.craigslist.org/00y0y_21c0FOvUXm...      7  \n",
       "5  https://images.craigslist.org/00606_g79izH5xxk...      7  "
      ]
     },
     "execution_count": 25,
     "metadata": {},
     "output_type": "execute_result"
    }
   ],
   "source": [
    "data.head()"
   ]
  },
  {
   "cell_type": "code",
   "execution_count": 26,
   "metadata": {},
   "outputs": [
    {
     "data": {
      "text/plain": [
       "Index(['id', 'url', 'region', 'region_url', 'price', 'type', 'sqfeet', 'beds',\n",
       "       'baths', 'cats_allowed', 'dogs_allowed', 'smoking_allowed',\n",
       "       'wheelchair_access', 'electric_vehicle_charge', 'comes_furnished',\n",
       "       'laundry_options', 'parking_options', 'image_url', 'state'],\n",
       "      dtype='object')"
      ]
     },
     "execution_count": 26,
     "metadata": {},
     "output_type": "execute_result"
    }
   ],
   "source": [
    "data.columns"
   ]
  },
  {
   "cell_type": "code",
   "execution_count": 27,
   "metadata": {
    "scrolled": true
   },
   "outputs": [
    {
     "data": {
      "text/html": [
       "<div>\n",
       "<style scoped>\n",
       "    .dataframe tbody tr th:only-of-type {\n",
       "        vertical-align: middle;\n",
       "    }\n",
       "\n",
       "    .dataframe tbody tr th {\n",
       "        vertical-align: top;\n",
       "    }\n",
       "\n",
       "    .dataframe thead th {\n",
       "        text-align: right;\n",
       "    }\n",
       "</style>\n",
       "<table border=\"1\" class=\"dataframe\">\n",
       "  <thead>\n",
       "    <tr style=\"text-align: right;\">\n",
       "      <th></th>\n",
       "      <th>region</th>\n",
       "      <th>price</th>\n",
       "      <th>type</th>\n",
       "      <th>sqfeet</th>\n",
       "      <th>beds</th>\n",
       "      <th>baths</th>\n",
       "      <th>cats_allowed</th>\n",
       "      <th>dogs_allowed</th>\n",
       "      <th>smoking_allowed</th>\n",
       "      <th>wheelchair_access</th>\n",
       "      <th>electric_vehicle_charge</th>\n",
       "      <th>comes_furnished</th>\n",
       "      <th>laundry_options</th>\n",
       "      <th>parking_options</th>\n",
       "      <th>state</th>\n",
       "    </tr>\n",
       "  </thead>\n",
       "  <tbody>\n",
       "    <tr>\n",
       "      <th>1</th>\n",
       "      <td>4</td>\n",
       "      <td>7.021976</td>\n",
       "      <td>3</td>\n",
       "      <td>7.185387</td>\n",
       "      <td>3</td>\n",
       "      <td>2.0</td>\n",
       "      <td>1</td>\n",
       "      <td>1</td>\n",
       "      <td>1</td>\n",
       "      <td>0</td>\n",
       "      <td>0</td>\n",
       "      <td>0</td>\n",
       "      <td>1</td>\n",
       "      <td>0</td>\n",
       "      <td>7</td>\n",
       "    </tr>\n",
       "    <tr>\n",
       "      <th>2</th>\n",
       "      <td>4</td>\n",
       "      <td>6.716595</td>\n",
       "      <td>3</td>\n",
       "      <td>7.033506</td>\n",
       "      <td>1</td>\n",
       "      <td>1.5</td>\n",
       "      <td>1</td>\n",
       "      <td>1</td>\n",
       "      <td>1</td>\n",
       "      <td>0</td>\n",
       "      <td>0</td>\n",
       "      <td>0</td>\n",
       "      <td>1</td>\n",
       "      <td>1</td>\n",
       "      <td>7</td>\n",
       "    </tr>\n",
       "    <tr>\n",
       "      <th>3</th>\n",
       "      <td>4</td>\n",
       "      <td>6.685861</td>\n",
       "      <td>3</td>\n",
       "      <td>6.833032</td>\n",
       "      <td>1</td>\n",
       "      <td>1.0</td>\n",
       "      <td>1</td>\n",
       "      <td>1</td>\n",
       "      <td>1</td>\n",
       "      <td>0</td>\n",
       "      <td>0</td>\n",
       "      <td>0</td>\n",
       "      <td>1</td>\n",
       "      <td>1</td>\n",
       "      <td>7</td>\n",
       "    </tr>\n",
       "    <tr>\n",
       "      <th>4</th>\n",
       "      <td>4</td>\n",
       "      <td>6.666957</td>\n",
       "      <td>3</td>\n",
       "      <td>6.954639</td>\n",
       "      <td>2</td>\n",
       "      <td>1.0</td>\n",
       "      <td>1</td>\n",
       "      <td>1</td>\n",
       "      <td>1</td>\n",
       "      <td>0</td>\n",
       "      <td>0</td>\n",
       "      <td>0</td>\n",
       "      <td>1</td>\n",
       "      <td>1</td>\n",
       "      <td>7</td>\n",
       "    </tr>\n",
       "    <tr>\n",
       "      <th>5</th>\n",
       "      <td>4</td>\n",
       "      <td>6.803505</td>\n",
       "      <td>3</td>\n",
       "      <td>7.169350</td>\n",
       "      <td>2</td>\n",
       "      <td>2.0</td>\n",
       "      <td>1</td>\n",
       "      <td>1</td>\n",
       "      <td>1</td>\n",
       "      <td>0</td>\n",
       "      <td>0</td>\n",
       "      <td>0</td>\n",
       "      <td>1</td>\n",
       "      <td>1</td>\n",
       "      <td>7</td>\n",
       "    </tr>\n",
       "  </tbody>\n",
       "</table>\n",
       "</div>"
      ],
      "text/plain": [
       "   region     price  type    sqfeet  beds  baths  cats_allowed  dogs_allowed  \\\n",
       "1       4  7.021976     3  7.185387     3    2.0             1             1   \n",
       "2       4  6.716595     3  7.033506     1    1.5             1             1   \n",
       "3       4  6.685861     3  6.833032     1    1.0             1             1   \n",
       "4       4  6.666957     3  6.954639     2    1.0             1             1   \n",
       "5       4  6.803505     3  7.169350     2    2.0             1             1   \n",
       "\n",
       "   smoking_allowed  wheelchair_access  electric_vehicle_charge  \\\n",
       "1                1                  0                        0   \n",
       "2                1                  0                        0   \n",
       "3                1                  0                        0   \n",
       "4                1                  0                        0   \n",
       "5                1                  0                        0   \n",
       "\n",
       "   comes_furnished  laundry_options  parking_options  state  \n",
       "1                0                1                0      7  \n",
       "2                0                1                1      7  \n",
       "3                0                1                1      7  \n",
       "4                0                1                1      7  \n",
       "5                0                1                1      7  "
      ]
     },
     "execution_count": 27,
     "metadata": {},
     "output_type": "execute_result"
    }
   ],
   "source": [
    "features = ['region', 'price', 'type', 'sqfeet', 'beds', 'baths', \n",
    "            'cats_allowed', 'dogs_allowed', 'smoking_allowed',\n",
    "            'wheelchair_access', 'electric_vehicle_charge', 'comes_furnished',\n",
    "            'laundry_options', 'parking_options', 'state']\n",
    "\n",
    "data_final = data[features].copy()\n",
    "data_final.head()"
   ]
  },
  {
   "cell_type": "code",
   "execution_count": 28,
   "metadata": {},
   "outputs": [],
   "source": [
    "for feature in features:\n",
    "    data_final[feature] = data_final[feature].astype(np.float64)"
   ]
  },
  {
   "cell_type": "markdown",
   "metadata": {},
   "source": [
    "### Correlation Heatmap"
   ]
  },
  {
   "cell_type": "code",
   "execution_count": 29,
   "metadata": {},
   "outputs": [
    {
     "data": {
      "image/png": "[encoded data removed]",
      "text/plain": [
       "<Figure size 1800x1800 with 2 Axes>"
      ]
     },
     "metadata": {
      "needs_background": "light"
     },
     "output_type": "display_data"
    }
   ],
   "source": [
    "corr_matrix = data.corr()\n",
    "mask = np.zeros_like(corr_matrix, dtype=np.bool)\n",
    "mask[np.triu_indices_from(mask)]= True\n",
    "\n",
    "fig, ax = plt.subplots(figsize=(25,25)) \n",
    "\n",
    "sns.heatmap(corr_matrix, \n",
    "            annot=True, \n",
    "            square=True,\n",
    "            fmt='.2g',\n",
    "            mask=mask,\n",
    "            ax=ax).set(\n",
    "    title = 'Feature Correlation', xlabel = 'Columns', ylabel = 'Columns')\n",
    "\n",
    "ax.set_yticklabels(corr_matrix.columns, rotation = 0)\n",
    "ax.set_xticklabels(corr_matrix.columns)\n",
    "sns.set_style({'xtick.bottom': True}, {'ytick.left': True})"
   ]
  },
  {
   "cell_type": "code",
   "execution_count": 30,
   "metadata": {},
   "outputs": [],
   "source": [
    "data_final.to_csv('data_cleaned.csv', index=False)"
   ]
  },
  {
   "cell_type": "code",
   "execution_count": 31,
   "metadata": {},
   "outputs": [
    {
     "data": {
      "text/plain": [
       "(228857, 15)"
      ]
     },
     "execution_count": 31,
     "metadata": {},
     "output_type": "execute_result"
    }
   ],
   "source": [
    "data_final = pd.read_csv('data_cleaned.csv')\n",
    "data_final.shape"
   ]
  },
  {
   "cell_type": "code",
   "execution_count": 32,
   "metadata": {},
   "outputs": [
    {
     "name": "stdout",
     "output_type": "stream",
     "text": [
      "<class 'pandas.core.frame.DataFrame'>\n",
      "RangeIndex: 228857 entries, 0 to 228856\n",
      "Data columns (total 15 columns):\n",
      "region                     228857 non-null float64\n",
      "price                      228857 non-null float64\n",
      "type                       228857 non-null float64\n",
      "sqfeet                     228857 non-null float64\n",
      "beds                       228857 non-null float64\n",
      "baths                      228857 non-null float64\n",
      "cats_allowed               228857 non-null float64\n",
      "dogs_allowed               228857 non-null float64\n",
      "smoking_allowed            228857 non-null float64\n",
      "wheelchair_access          228857 non-null float64\n",
      "electric_vehicle_charge    228857 non-null float64\n",
      "comes_furnished            228857 non-null float64\n",
      "laundry_options            228857 non-null float64\n",
      "parking_options            228857 non-null float64\n",
      "state                      228857 non-null float64\n",
      "dtypes: float64(15)\n",
      "memory usage: 26.2 MB\n"
     ]
    }
   ],
   "source": [
    "data_final.info()"
   ]
  }
 ],
 "metadata": {
  "kernelspec": {
   "display_name": "Python 3",
   "language": "python",
   "name": "python3"
  },
  "language_info": {
   "codemirror_mode": {
    "name": "ipython",
    "version": 3
   },
   "file_extension": ".py",
   "mimetype": "text/x-python",
   "name": "python",
   "nbconvert_exporter": "python",
   "pygments_lexer": "ipython3",
   "version": "3.7.4"
  }
 },
 "nbformat": 4,
 "nbformat_minor": 2
}
